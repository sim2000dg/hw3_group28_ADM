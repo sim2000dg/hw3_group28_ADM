{
 "cells": [
  {
   "cell_type": "code",
   "execution_count": 5,
   "id": "6267be66",
   "metadata": {},
   "outputs": [],
   "source": [
    "import pandas as pd\n",
    "import numpy as np\n",
    "import matplotlib.pyplot as plt\n",
    "import seaborn as sns\n",
    "import timeit\n",
    "import matplotlib.pyplot as plt"
   ]
  },
  {
   "cell_type": "markdown",
   "id": "0c4ce33d",
   "metadata": {},
   "source": [
    "# Algorithmic Question\n"
   ]
  },
  {
   "cell_type": "code",
   "execution_count": 12,
   "id": "a32e5514",
   "metadata": {},
   "outputs": [],
   "source": [
    "times=[]\n",
    "with open('ApplicantsInfo.txt', 'r') as document:\n",
    "    answer = {}\n",
    "    n=100 #n the number of applicants\n",
    "    m=100  #m the number of exams\n",
    "    for line in document:\n",
    "        \n",
    "        if n != 0:\n",
    "                line = line.split()\n",
    "                nome_cognome=line[0]+' '+line[1]\n",
    "                if not line:  # empty line?\n",
    "                    continue\n",
    "                answer[nome_cognome] = [int(x)for x in line[2:m+2]]\n",
    "                n-=1   "
   ]
  },
  {
   "cell_type": "code",
   "execution_count": 13,
   "id": "63ec811d",
   "metadata": {},
   "outputs": [
    {
     "name": "stdout",
     "output_type": "stream",
     "text": [
      "[('Richard Scott', 23.84), ('Paula Ahmadi', 24.01), ('Arthur Richardson', 23.41), ('Vonda Duncan', 24.28), ('Stephanie Ibrahim', 24.31), ('Francis Lomax', 23.8), ('Edna Walbridge', 24.28), ('Ruth Ortega', 23.28), ('Carla Frazier', 23.75), ('Edwin Borders', 23.79), ('Robert White', 23.95), ('Dorothy Halloran', 23.91), ('William Bland', 24.67), ('Martha Piercy', 24.17), ('Jason Cook', 24.29), ('Gene Gold', 24.07), ('Margaret Dolphin', 23.38), ('Mary Brothers', 23.94), ('Shelley Tuttle', 23.54), ('Otis Hicks', 23.82), ('Leonard Buck', 23.95), ('Louise Davis', 24.35), ('Debra Amato', 23.62), ('Doreen Rogers', 23.65), ('Delbert Nakano', 24.14), ('Ashley Hoeck', 23.74), ('Ralph Newhouse', 23.3), ('William Webster', 23.72), ('Homer Matthews', 23.57), ('Freda Brehm', 24.35), ('Dale Baker', 23.38), ('Janine Beaty', 24.07), ('Janie Delgado', 23.93), ('Thomas Champion', 23.84), ('Michael Ritter', 24.05), ('Richard Yaple', 24.39), ('Melanie James', 24.2), ('John Salinas', 24.0), ('Viola Tallman', 24.0), ('Joseph Clay', 24.64), ('Trudy Hyatt', 23.77), ('Stephanie Carpenter', 23.83), ('Don Shoe', 23.45), ('Brice Walters', 24.66), ('Kenneth Button', 24.34), ('Jessica Harris', 24.79), ('Christopher Germon', 23.83), ('Leonard Garcia', 24.13), ('Stanley Hartrick', 24.58), ('Michael Creason', 23.82), ('Corrine Ortiz', 23.94), ('Donald Craven', 22.99), ('Lois Liddell', 23.48), ('Troy Murphy', 24.26), ('Bonnie Norwood', 24.71), ('Inez Law', 24.31), ('Erika Carrington', 23.8), ('Donald Andrews', 24.12), ('Craig Newcomb', 24.33), ('Rebecca Dougherty', 24.05), ('Jerry Titus', 24.56), ('Nathan Nugent', 23.69), ('David Folwell', 23.72), ('Katie Carrigan', 23.92), ('John Bennett', 23.88), ('Barbara Pressley', 23.54), ('Thomas Williams', 24.02), ('Gregory Vance', 24.73), ('William Miller', 23.94), ('William Johnson', 23.41), ('Mamie Zimmerman', 23.77), ('Henry Banda', 23.62), ('Manuel Hunter', 23.66), ('Wesley Mata', 23.67), ('Anne Sivak', 23.86), ('Evelyn Lea', 23.73), ('Morris Robbins', 24.22), ('Frances Russell', 23.97), ('Winfred Hazelwood', 24.1), ('James Kruckenberg', 24.03), ('Flora Fogarty', 23.24), ('Louella Maes', 24.16), ('James Morrow', 23.29), ('Jean Rozzi', 23.73), ('Lisa Ledon', 24.23), ('Gregory Jessie', 23.56), ('Michelle Lynch', 23.84), ('Earle Wedel', 23.93), ('Richard Parker', 25.01), ('Danial Barrera', 24.24), ('Rodolfo Gardner', 24.26), ('Brett Overton', 23.93), ('Stephen Lara', 23.36), ('Stacey Sulzer', 23.81), ('Aaron Irons', 23.62), ('Kenny Petrone', 24.2), ('Edith Broenneke', 24.7), ('Gregory Whitley', 23.93), ('Michael Stevens', 23.8)]\n"
     ]
    }
   ],
   "source": [
    "a=[] # list with the name_surname and mean of each applicants \n",
    "def mean(dic):\n",
    "    del dic['50000 1000'] # to delete first row with the dimensions nxm\n",
    "    \n",
    "    \n",
    "    for k,v in dic.items():\n",
    "        a.append((k,sum(v)/m)) # computation of the mean\n",
    "mean(answer)\n",
    "print (a)"
   ]
  },
  {
   "cell_type": "code",
   "execution_count": 14,
   "id": "475987c9",
   "metadata": {},
   "outputs": [
    {
     "name": "stdout",
     "output_type": "stream",
     "text": [
      "[['Richard Scott', 23.84], ['Paula Ahmadi', 24.01], ['Arthur Richardson', 23.41], ['Vonda Duncan', 24.28], ['Stephanie Ibrahim', 24.31], ['Francis Lomax', 23.8], ['Edna Walbridge', 24.28], ['Ruth Ortega', 23.28], ['Carla Frazier', 23.75], ['Edwin Borders', 23.79], ['Robert White', 23.95], ['Dorothy Halloran', 23.91], ['William Bland', 24.67], ['Martha Piercy', 24.17], ['Jason Cook', 24.29], ['Gene Gold', 24.07], ['Margaret Dolphin', 23.38], ['Mary Brothers', 23.94], ['Shelley Tuttle', 23.54], ['Otis Hicks', 23.82], ['Leonard Buck', 23.95], ['Louise Davis', 24.35], ['Debra Amato', 23.62], ['Doreen Rogers', 23.65], ['Delbert Nakano', 24.14], ['Ashley Hoeck', 23.74], ['Ralph Newhouse', 23.3], ['William Webster', 23.72], ['Homer Matthews', 23.57], ['Freda Brehm', 24.35], ['Dale Baker', 23.38], ['Janine Beaty', 24.07], ['Janie Delgado', 23.93], ['Thomas Champion', 23.84], ['Michael Ritter', 24.05], ['Richard Yaple', 24.39], ['Melanie James', 24.2], ['John Salinas', 24.0], ['Viola Tallman', 24.0], ['Joseph Clay', 24.64], ['Trudy Hyatt', 23.77], ['Stephanie Carpenter', 23.83], ['Don Shoe', 23.45], ['Brice Walters', 24.66], ['Kenneth Button', 24.34], ['Jessica Harris', 24.79], ['Christopher Germon', 23.83], ['Leonard Garcia', 24.13], ['Stanley Hartrick', 24.58], ['Michael Creason', 23.82], ['Corrine Ortiz', 23.94], ['Donald Craven', 22.99], ['Lois Liddell', 23.48], ['Troy Murphy', 24.26], ['Bonnie Norwood', 24.71], ['Inez Law', 24.31], ['Erika Carrington', 23.8], ['Donald Andrews', 24.12], ['Craig Newcomb', 24.33], ['Rebecca Dougherty', 24.05], ['Jerry Titus', 24.56], ['Nathan Nugent', 23.69], ['David Folwell', 23.72], ['Katie Carrigan', 23.92], ['John Bennett', 23.88], ['Barbara Pressley', 23.54], ['Thomas Williams', 24.02], ['Gregory Vance', 24.73], ['William Miller', 23.94], ['William Johnson', 23.41], ['Mamie Zimmerman', 23.77], ['Henry Banda', 23.62], ['Manuel Hunter', 23.66], ['Wesley Mata', 23.67], ['Anne Sivak', 23.86], ['Evelyn Lea', 23.73], ['Morris Robbins', 24.22], ['Frances Russell', 23.97], ['Winfred Hazelwood', 24.1], ['James Kruckenberg', 24.03], ['Flora Fogarty', 23.24], ['Louella Maes', 24.16], ['James Morrow', 23.29], ['Jean Rozzi', 23.73], ['Lisa Ledon', 24.23], ['Gregory Jessie', 23.56], ['Michelle Lynch', 23.84], ['Earle Wedel', 23.93], ['Richard Parker', 25.01], ['Danial Barrera', 24.24], ['Rodolfo Gardner', 24.26], ['Brett Overton', 23.93], ['Stephen Lara', 23.36], ['Stacey Sulzer', 23.81], ['Aaron Irons', 23.62], ['Kenny Petrone', 24.2], ['Edith Broenneke', 24.7], ['Gregory Whitley', 23.93], ['Michael Stevens', 23.8]]\n"
     ]
    }
   ],
   "source": [
    "rows = len(a)\n",
    "cols = 2\n",
    "nameXscore = [[0 for _ in range(cols)] for _ in range(rows)]#matrix with 2 columns one for the name and the second for the mean, each row is a student\n",
    "for i in range(len(a)):\n",
    "    nameXscore[i][0], nameXscore[i][1]=(a[i])[0],(a[i])[1]\n",
    "print(nameXscore)"
   ]
  },
  {
   "cell_type": "markdown",
   "id": "05fde380",
   "metadata": {},
   "source": [
    "#### Implement three different sorting algorithms"
   ]
  },
  {
   "cell_type": "code",
   "execution_count": 15,
   "id": "395a0f74",
   "metadata": {},
   "outputs": [
    {
     "name": "stdout",
     "output_type": "stream",
     "text": [
      "[['Richard Parker', 25.01], ['Jessica Harris', 24.79], ['Gregory Vance', 24.73], ['Bonnie Norwood', 24.71], ['Edith Broenneke', 24.7], ['William Bland', 24.67], ['Brice Walters', 24.66], ['Joseph Clay', 24.64], ['Stanley Hartrick', 24.58], ['Jerry Titus', 24.56], ['Richard Yaple', 24.39], ['Louise Davis', 24.35], ['Freda Brehm', 24.35], ['Kenneth Button', 24.34], ['Craig Newcomb', 24.33], ['Stephanie Ibrahim', 24.31], ['Inez Law', 24.31], ['Jason Cook', 24.29], ['Vonda Duncan', 24.28], ['Edna Walbridge', 24.28], ['Troy Murphy', 24.26], ['Rodolfo Gardner', 24.26], ['Danial Barrera', 24.24], ['Lisa Ledon', 24.23], ['Morris Robbins', 24.22], ['Melanie James', 24.2], ['Kenny Petrone', 24.2], ['Martha Piercy', 24.17], ['Louella Maes', 24.16], ['Delbert Nakano', 24.14], ['Leonard Garcia', 24.13], ['Donald Andrews', 24.12], ['Winfred Hazelwood', 24.1], ['Gene Gold', 24.07], ['Janine Beaty', 24.07], ['Michael Ritter', 24.05], ['Rebecca Dougherty', 24.05], ['James Kruckenberg', 24.03], ['Thomas Williams', 24.02], ['Paula Ahmadi', 24.01], ['John Salinas', 24.0], ['Viola Tallman', 24.0], ['Frances Russell', 23.97], ['Robert White', 23.95], ['Leonard Buck', 23.95], ['Mary Brothers', 23.94], ['Corrine Ortiz', 23.94], ['William Miller', 23.94], ['Janie Delgado', 23.93], ['Earle Wedel', 23.93], ['Brett Overton', 23.93], ['Gregory Whitley', 23.93], ['Katie Carrigan', 23.92], ['Dorothy Halloran', 23.91], ['John Bennett', 23.88], ['Anne Sivak', 23.86], ['Richard Scott', 23.84], ['Thomas Champion', 23.84], ['Michelle Lynch', 23.84], ['Stephanie Carpenter', 23.83], ['Christopher Germon', 23.83], ['Otis Hicks', 23.82], ['Michael Creason', 23.82], ['Stacey Sulzer', 23.81], ['Francis Lomax', 23.8], ['Erika Carrington', 23.8], ['Michael Stevens', 23.8], ['Edwin Borders', 23.79], ['Trudy Hyatt', 23.77], ['Mamie Zimmerman', 23.77], ['Carla Frazier', 23.75], ['Ashley Hoeck', 23.74], ['Evelyn Lea', 23.73], ['Jean Rozzi', 23.73], ['William Webster', 23.72], ['David Folwell', 23.72], ['Nathan Nugent', 23.69], ['Wesley Mata', 23.67], ['Manuel Hunter', 23.66], ['Doreen Rogers', 23.65], ['Debra Amato', 23.62], ['Henry Banda', 23.62], ['Aaron Irons', 23.62], ['Homer Matthews', 23.57], ['Gregory Jessie', 23.56], ['Shelley Tuttle', 23.54], ['Barbara Pressley', 23.54], ['Lois Liddell', 23.48], ['Don Shoe', 23.45], ['Arthur Richardson', 23.41], ['William Johnson', 23.41], ['Margaret Dolphin', 23.38], ['Dale Baker', 23.38], ['Stephen Lara', 23.36], ['Ralph Newhouse', 23.3], ['James Morrow', 23.29], ['Ruth Ortega', 23.28], ['Flora Fogarty', 23.24], ['Donald Craven', 22.99]] 0.0006029999999555002\n"
     ]
    }
   ],
   "source": [
    "start=timeit.default_timer()\n",
    "def quicksort(array):\n",
    "    if len(array) < 2:\n",
    "        return array\n",
    "    nlow=0\n",
    "    nsame=0\n",
    "    nhigh=0\n",
    "    for i in range(len(array)):\n",
    "        if array[i][1] > array[0][1]:\n",
    "            nlow=nlow+1\n",
    "        elif array[i][1] == array[0][1]:\n",
    "            nsame=nsame+1\n",
    "        elif array[i][1] < array[0][1]:\n",
    "            nhigh=nhigh+1\n",
    "    low = [[0 for _ in range(cols)] for _ in range(nlow)]\n",
    "    same = [[0 for _ in range(cols)] for _ in range(nsame)]\n",
    "    high = [[0 for _ in range(cols)] for _ in range(nhigh)]\n",
    "    h=0\n",
    "    j=0\n",
    "    k=0    \n",
    "    for i in range(len(array)):\n",
    "        if array[i][1] > array[0][1]:\n",
    "            low[h][0],low[h][1] = array[i][0],array[i][1]\n",
    "            h = h+1\n",
    "        elif array[i][1] == array[0][1]:\n",
    "            same[j][0],same[j][1] = array[i][0],array[i][1]\n",
    "            j = j+1\n",
    "        elif array[i][1] < array[0][1]:\n",
    "            high[k][0],high[k][1] = array[i][0],array[i][1]\n",
    "            k = k+1\n",
    "    return quicksort(low) + same + quicksort(high)\n",
    "stop=timeit.default_timer()\n",
    "times.append(stop-start)\n",
    "print(quicksort(nameXscore),stop-start)"
   ]
  },
  {
   "cell_type": "markdown",
   "id": "8b38ead3",
   "metadata": {},
   "source": [
    "In the Quicksort algorithm we divide our array picking an element x pivot, partition array so that elements ≤ x go \n",
    "before pivot and elements > x go after pivot. The logic is simple, we start from the leftmost element and keep track of the index of smaller (or equal to) elements as i. While traversing, if we find a smaller element, we swap the current element with arr[i]. Otherwise, we ignore the current element. The Quicksort has a time complexity  $O(n\\log{}n)$."
   ]
  },
  {
   "cell_type": "code",
   "execution_count": null,
   "id": "bef7d84e",
   "metadata": {},
   "outputs": [],
   "source": []
  },
  {
   "cell_type": "code",
   "execution_count": 95,
   "id": "d4c06b96",
   "metadata": {},
   "outputs": [
    {
     "name": "stdout",
     "output_type": "stream",
     "text": [
      "[['Richard Parker', 25.01], ['Jessica Harris', 24.79], ['Gregory Vance', 24.73], ['Bonnie Norwood', 24.71], ['Edith Broenneke', 24.7], ['William Bland', 24.67], ['Brice Walters', 24.66], ['Joseph Clay', 24.64], ['Stanley Hartrick', 24.58], ['Jerry Titus', 24.56], ['Richard Yaple', 24.39], ['Louise Davis', 24.35], ['Freda Brehm', 24.35], ['Kenneth Button', 24.34], ['Craig Newcomb', 24.33], ['Stephanie Ibrahim', 24.31], ['Inez Law', 24.31], ['Jason Cook', 24.29], ['Vonda Duncan', 24.28], ['Edna Walbridge', 24.28], ['Troy Murphy', 24.26], ['Rodolfo Gardner', 24.26], ['Danial Barrera', 24.24], ['Lisa Ledon', 24.23], ['Morris Robbins', 24.22], ['Melanie James', 24.2], ['Kenny Petrone', 24.2], ['Martha Piercy', 24.17], ['Louella Maes', 24.16], ['Delbert Nakano', 24.14], ['Leonard Garcia', 24.13], ['Donald Andrews', 24.12], ['Winfred Hazelwood', 24.1], ['Gene Gold', 24.07], ['Janine Beaty', 24.07], ['Michael Ritter', 24.05], ['Rebecca Dougherty', 24.05], ['James Kruckenberg', 24.03], ['Thomas Williams', 24.02], ['Paula Ahmadi', 24.01], ['John Salinas', 24.0], ['Viola Tallman', 24.0], ['Frances Russell', 23.97], ['Robert White', 23.95], ['Leonard Buck', 23.95], ['Mary Brothers', 23.94], ['Corrine Ortiz', 23.94], ['William Miller', 23.94], ['Janie Delgado', 23.93], ['Earle Wedel', 23.93], ['Brett Overton', 23.93], ['Gregory Whitley', 23.93], ['Katie Carrigan', 23.92], ['Dorothy Halloran', 23.91], ['John Bennett', 23.88], ['Anne Sivak', 23.86], ['Richard Scott', 23.84], ['Thomas Champion', 23.84], ['Michelle Lynch', 23.84], ['Stephanie Carpenter', 23.83], ['Christopher Germon', 23.83], ['Otis Hicks', 23.82], ['Michael Creason', 23.82], ['Stacey Sulzer', 23.81], ['Francis Lomax', 23.8], ['Erika Carrington', 23.8], ['Michael Stevens', 23.8], ['Edwin Borders', 23.79], ['Trudy Hyatt', 23.77], ['Mamie Zimmerman', 23.77], ['Carla Frazier', 23.75], ['Ashley Hoeck', 23.74], ['Evelyn Lea', 23.73], ['Jean Rozzi', 23.73], ['William Webster', 23.72], ['David Folwell', 23.72], ['Nathan Nugent', 23.69], ['Wesley Mata', 23.67], ['Manuel Hunter', 23.66], ['Doreen Rogers', 23.65], ['Debra Amato', 23.62], ['Henry Banda', 23.62], ['Aaron Irons', 23.62], ['Homer Matthews', 23.57], ['Gregory Jessie', 23.56], ['Shelley Tuttle', 23.54], ['Barbara Pressley', 23.54], ['Lois Liddell', 23.48], ['Don Shoe', 23.45], ['Arthur Richardson', 23.41], ['William Johnson', 23.41], ['Margaret Dolphin', 23.38], ['Dale Baker', 23.38], ['Stephen Lara', 23.36], ['Ralph Newhouse', 23.3], ['James Morrow', 23.29], ['Ruth Ortega', 23.28], ['Flora Fogarty', 23.24], ['Donald Craven', 22.99]] 0.0002974999988509808\n"
     ]
    }
   ],
   "source": [
    "start=timeit.default_timer()\n",
    "def classicsort(array):\n",
    "    copy= [[0 for _ in range(cols)] for _ in range(len(array))]\n",
    "    for i in range(len(array)):\n",
    "        copy[i][0], copy[i][1]=array[i][0], array[i][1]\n",
    "    sortedarray= [[0 for _ in range(cols)] for _ in range(len(array))]\n",
    "    max = 0\n",
    "    maxIn = 0\n",
    "    for j in range(len(copy)):\n",
    "        if copy[j][1] > max:\n",
    "            max = copy[j][1]\n",
    "            maxIn = j\n",
    "    sortedarray[0][0], sortedarray[0][1]=copy[maxIn][0], copy[maxIn][1]\n",
    "    copy[maxIn][1]=0\n",
    "    k=0\n",
    "    for i in range(len(copy)-1):\n",
    "        max = 0\n",
    "        minIn = 0\n",
    "        for j in range(len(copy)):\n",
    "            if (copy[j][1] > max and copy[j][1]<=sortedarray[k][1]):\n",
    "                max = copy[j][1]\n",
    "                maxIn = j\n",
    "        sortedarray[k+1][0], sortedarray[k+1][1]=copy[maxIn][0], copy[maxIn][1]\n",
    "        copy[maxIn][1]=0\n",
    "        k=k+1\n",
    "    return sortedarray\n",
    "stop=timeit.default_timer()\n",
    "print(classicsort(nameXscore),stop-start)\n",
    "times.append(stop-start)\n",
    "\n"
   ]
  },
  {
   "cell_type": "markdown",
   "id": "4d3fb473",
   "metadata": {},
   "source": [
    "This algorithm implemented above by scratch is inspired by the Bubble, run a nested for loop to traverse the input array using two variables i and j, such that 0 ≤ i < n-1 and 0 ≤ j < n-i-1 ff arr[j] is greater than arr[j+1] then swap these adjacent elements, else move on. So the time complexity is similar to the Bubble  $O(n^2)$."
   ]
  },
  {
   "cell_type": "code",
   "execution_count": null,
   "id": "15a82ab7",
   "metadata": {},
   "outputs": [],
   "source": []
  },
  {
   "cell_type": "code",
   "execution_count": 96,
   "id": "f9814df4",
   "metadata": {},
   "outputs": [
    {
     "name": "stdout",
     "output_type": "stream",
     "text": [
      "[['Richard Parker', 25.01], ['Jessica Harris', 24.79], ['Gregory Vance', 24.73], ['Bonnie Norwood', 24.71], ['Edith Broenneke', 24.7], ['William Bland', 24.67], ['Brice Walters', 24.66], ['Joseph Clay', 24.64], ['Stanley Hartrick', 24.58], ['Jerry Titus', 24.56], ['Richard Yaple', 24.39], ['Louise Davis', 24.35], ['Freda Brehm', 24.35], ['Kenneth Button', 24.34], ['Craig Newcomb', 24.33], ['Stephanie Ibrahim', 24.31], ['Inez Law', 24.31], ['Jason Cook', 24.29], ['Vonda Duncan', 24.28], ['Edna Walbridge', 24.28], ['Troy Murphy', 24.26], ['Rodolfo Gardner', 24.26], ['Danial Barrera', 24.24], ['Lisa Ledon', 24.23], ['Morris Robbins', 24.22], ['Melanie James', 24.2], ['Kenny Petrone', 24.2], ['Martha Piercy', 24.17], ['Louella Maes', 24.16], ['Delbert Nakano', 24.14], ['Leonard Garcia', 24.13], ['Donald Andrews', 24.12], ['Winfred Hazelwood', 24.1], ['Gene Gold', 24.07], ['Janine Beaty', 24.07], ['Michael Ritter', 24.05], ['Rebecca Dougherty', 24.05], ['James Kruckenberg', 24.03], ['Thomas Williams', 24.02], ['Paula Ahmadi', 24.01], ['John Salinas', 24.0], ['Viola Tallman', 24.0], ['Frances Russell', 23.97], ['Robert White', 23.95], ['Leonard Buck', 23.95], ['Mary Brothers', 23.94], ['Corrine Ortiz', 23.94], ['William Miller', 23.94], ['Janie Delgado', 23.93], ['Earle Wedel', 23.93], ['Brett Overton', 23.93], ['Gregory Whitley', 23.93], ['Katie Carrigan', 23.92], ['Dorothy Halloran', 23.91], ['John Bennett', 23.88], ['Anne Sivak', 23.86], ['Richard Scott', 23.84], ['Thomas Champion', 23.84], ['Michelle Lynch', 23.84], ['Stephanie Carpenter', 23.83], ['Christopher Germon', 23.83], ['Otis Hicks', 23.82], ['Michael Creason', 23.82], ['Stacey Sulzer', 23.81], ['Francis Lomax', 23.8], ['Erika Carrington', 23.8], ['Michael Stevens', 23.8], ['Edwin Borders', 23.79], ['Trudy Hyatt', 23.77], ['Mamie Zimmerman', 23.77], ['Carla Frazier', 23.75], ['Ashley Hoeck', 23.74], ['Evelyn Lea', 23.73], ['Jean Rozzi', 23.73], ['William Webster', 23.72], ['David Folwell', 23.72], ['Nathan Nugent', 23.69], ['Wesley Mata', 23.67], ['Manuel Hunter', 23.66], ['Doreen Rogers', 23.65], ['Debra Amato', 23.62], ['Henry Banda', 23.62], ['Aaron Irons', 23.62], ['Homer Matthews', 23.57], ['Gregory Jessie', 23.56], ['Shelley Tuttle', 23.54], ['Barbara Pressley', 23.54], ['Lois Liddell', 23.48], ['Don Shoe', 23.45], ['Arthur Richardson', 23.41], ['William Johnson', 23.41], ['Margaret Dolphin', 23.38], ['Dale Baker', 23.38], ['Stephen Lara', 23.36], ['Ralph Newhouse', 23.3], ['James Morrow', 23.29], ['Ruth Ortega', 23.28], ['Flora Fogarty', 23.24], ['Donald Craven', 22.99]] 0.00044430000343709253\n"
     ]
    }
   ],
   "source": [
    "start=timeit.default_timer()\n",
    "def bubble(array):\n",
    "    copy= [[0 for _ in range(cols)] for _ in range(len(array))]\n",
    "    for i in range(len(array)):\n",
    "        copy[i][0], copy[i][1]=array[i][0], array[i][1]\n",
    "    tempscore = 0\n",
    "    tempname = \"\"\n",
    "    for j in range(len(copy) - 1):\n",
    "        for i in range(len(copy) - 1):\n",
    "            if copy[i][1] < copy[i+1][1]:\n",
    "                tempname, tempscore = copy[i+1][0], copy[i+1][1]\n",
    "                copy[i+1][0], copy[i+1][1] = copy[i][0], copy[i][1]\n",
    "                copy[i][0], copy[i][1] = tempname, tempscore\n",
    "    return copy\n",
    "stop=timeit.default_timer()\n",
    "times.append(stop-start)\n",
    "print(bubble(nameXscore),stop-start)\n"
   ]
  },
  {
   "cell_type": "markdown",
   "id": "0547c87c",
   "metadata": {},
   "source": [
    "The bubble algorithm works by repeatedly swapping the adjacent elements if they are in the wrong order. After k-th scan, k largest items are correctly ordered and are in the k rightmost locations. The Bubble Sort has a time complexity  $O(n^2)$."
   ]
  },
  {
   "cell_type": "code",
   "execution_count": null,
   "id": "949e5d2c",
   "metadata": {},
   "outputs": [],
   "source": []
  },
  {
   "cell_type": "code",
   "execution_count": 97,
   "id": "74fb467c",
   "metadata": {},
   "outputs": [
    {
     "name": "stdout",
     "output_type": "stream",
     "text": [
      "[['Richard Parker', 25.01], ['Jessica Harris', 24.79], ['Gregory Vance', 24.73], ['Bonnie Norwood', 24.71], ['Edith Broenneke', 24.7], ['William Bland', 24.67], ['Brice Walters', 24.66], ['Joseph Clay', 24.64], ['Stanley Hartrick', 24.58], ['Jerry Titus', 24.56], ['Richard Yaple', 24.39], ['Freda Brehm', 24.35], ['Louise Davis', 24.35], ['Kenneth Button', 24.34], ['Craig Newcomb', 24.33], ['Inez Law', 24.31], ['Stephanie Ibrahim', 24.31], ['Jason Cook', 24.29], ['Edna Walbridge', 24.28], ['Vonda Duncan', 24.28], ['Rodolfo Gardner', 24.26], ['Troy Murphy', 24.26], ['Danial Barrera', 24.24], ['Lisa Ledon', 24.23], ['Morris Robbins', 24.22], ['Kenny Petrone', 24.2], ['Melanie James', 24.2], ['Martha Piercy', 24.17], ['Louella Maes', 24.16], ['Delbert Nakano', 24.14], ['Leonard Garcia', 24.13], ['Donald Andrews', 24.12], ['Winfred Hazelwood', 24.1], ['Gene Gold', 24.07], ['Janine Beaty', 24.07], ['Michael Ritter', 24.05], ['Rebecca Dougherty', 24.05], ['James Kruckenberg', 24.03], ['Thomas Williams', 24.02], ['Paula Ahmadi', 24.01], ['John Salinas', 24.0], ['Viola Tallman', 24.0], ['Frances Russell', 23.97], ['Leonard Buck', 23.95], ['Robert White', 23.95], ['Corrine Ortiz', 23.94], ['Mary Brothers', 23.94], ['William Miller', 23.94], ['Brett Overton', 23.93], ['Earle Wedel', 23.93], ['Gregory Whitley', 23.93], ['Janie Delgado', 23.93], ['Katie Carrigan', 23.92], ['Dorothy Halloran', 23.91], ['John Bennett', 23.88], ['Anne Sivak', 23.86], ['Michelle Lynch', 23.84], ['Richard Scott', 23.84], ['Thomas Champion', 23.84], ['Christopher Germon', 23.83], ['Stephanie Carpenter', 23.83], ['Michael Creason', 23.82], ['Otis Hicks', 23.82], ['Stacey Sulzer', 23.81], ['Erika Carrington', 23.8], ['Francis Lomax', 23.8], ['Michael Stevens', 23.8], ['Edwin Borders', 23.79], ['Mamie Zimmerman', 23.77], ['Trudy Hyatt', 23.77], ['Carla Frazier', 23.75], ['Ashley Hoeck', 23.74], ['Evelyn Lea', 23.73], ['Jean Rozzi', 23.73], ['David Folwell', 23.72], ['William Webster', 23.72], ['Nathan Nugent', 23.69], ['Wesley Mata', 23.67], ['Manuel Hunter', 23.66], ['Doreen Rogers', 23.65], ['Aaron Irons', 23.62], ['Debra Amato', 23.62], ['Henry Banda', 23.62], ['Homer Matthews', 23.57], ['Gregory Jessie', 23.56], ['Barbara Pressley', 23.54], ['Shelley Tuttle', 23.54], ['Lois Liddell', 23.48], ['Don Shoe', 23.45], ['Arthur Richardson', 23.41], ['William Johnson', 23.41], ['Dale Baker', 23.38], ['Margaret Dolphin', 23.38], ['Stephen Lara', 23.36], ['Ralph Newhouse', 23.3], ['James Morrow', 23.29], ['Ruth Ortega', 23.28], ['Flora Fogarty', 23.24], ['Donald Craven', 22.99]]\n"
     ]
    }
   ],
   "source": [
    "#sorting the keys in ascending order using their first and last names to order the students with the same mean\n",
    "\n",
    "def alphabeticsort(sortedarray):\n",
    "    for i in range(len(sortedarray)):\n",
    "        counteq = 0\n",
    "        if sortedarray[i][1]!=sortedarray[i-1][1]: \n",
    "            for j in range(i+1,len(sortedarray)):\n",
    "                if sortedarray[i][1]!=sortedarray[j][1]: break\n",
    "                counteq = counteq + 1        \n",
    "            if counteq!=0:\n",
    "                sortedarray[i:i+counteq+1]= sorted(sortedarray[i:i+counteq+1])\n",
    "    return sortedarray\n",
    "print(alphabeticsort(classicsort(nameXscore))) \n"
   ]
  },
  {
   "cell_type": "code",
   "execution_count": null,
   "id": "3ca06243",
   "metadata": {},
   "outputs": [],
   "source": []
  },
  {
   "cell_type": "markdown",
   "id": "c8168d4c",
   "metadata": {},
   "source": [
    "# Evaluate the time taken for each of your implementations to answer the query"
   ]
  },
  {
   "cell_type": "code",
   "execution_count": 11,
   "id": "42dc7f33",
   "metadata": {},
   "outputs": [
    {
     "data": {
      "image/png": "[encoded data removed]",
      "text/plain": [
       "<Figure size 640x480 with 1 Axes>"
      ]
     },
     "metadata": {},
     "output_type": "display_data"
    }
   ],
   "source": [
    "#plotting the running times \n",
    "alg=['quicksort','classicsort','bubble']\n",
    "plt.bar(alg, times, color ='blue',\n",
    "        width = 0.4)\n",
    " \n",
    "plt.xlabel(\"Sorting algorithms\")\n",
    "plt.ylabel(\"seconds\")\n",
    "plt.title(\"Execution times\")\n",
    "plt.show()"
   ]
  },
  {
   "cell_type": "markdown",
   "id": "f9e82792",
   "metadata": {},
   "source": [
    "As we can see by the time execution taken for the Bubble is the highest, that's reflects it's complexity  $O(n^2)$ it would generate huge time issues when the value of dataframe to sort is large the classic sort has almost the same time execution. The quicksort has the the lowest time execution reflecting it's complexity it's complexity $O(n\\log{}n)$ too. On the other hands the creation of Bubble sort is one of the easiest sorting algorithm approach as coding  perspective, in fact Quick Sort has a complex coding background with the involvement of pivot points and sub-algorithm that sorts the sub arrays. During large arrays sorting, Bubble Sort performs poorly due to abundance of time consumption, but is useful in sorting arrays for a lesser number of elements. Quick Sort is considered to be more useful in sorting large scale arrays, since its has an quicker and recursive results  especially when compared to Bubble Sort. At the end the choiche between the two depends on the scale of the array to sort and the the implementation issue by on the coding point of view."
   ]
  },
  {
   "cell_type": "code",
   "execution_count": null,
   "id": "0a6d6c49",
   "metadata": {},
   "outputs": [],
   "source": []
  },
  {
   "cell_type": "code",
   "execution_count": null,
   "id": "de2f5eeb",
   "metadata": {},
   "outputs": [],
   "source": []
  },
  {
   "cell_type": "code",
   "execution_count": null,
   "id": "dfc94419",
   "metadata": {},
   "outputs": [],
   "source": []
  }
 ],
 "metadata": {
  "kernelspec": {
   "display_name": "Python 3 (ipykernel)",
   "language": "python",
   "name": "python3"
  },
  "language_info": {
   "codemirror_mode": {
    "name": "ipython",
    "version": 3
   },
   "file_extension": ".py",
   "mimetype": "text/x-python",
   "name": "python",
   "nbconvert_exporter": "python",
   "pygments_lexer": "ipython3",
   "version": "3.9.7"
  }
 },
 "nbformat": 4,
 "nbformat_minor": 5
}
